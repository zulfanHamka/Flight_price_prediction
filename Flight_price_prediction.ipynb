{
  "cells": [
    {
      "cell_type": "markdown",
      "metadata": {
        "id": "L3qQmwx2p59f"
      },
      "source": [
        "**KELOMPOK 2 :**\n",
        "1. ATHAYA DZAHABIYYAH NAIMI\n",
        "2. EL SHADDAI JULIETTE HUTAHAEAN\n",
        "3. MUHAMMAD ZULFAN HAMKA\n",
        "4. NALA NASIHATUL ULUUM"
      ]
    },
    {
      "cell_type": "markdown",
      "metadata": {
        "id": "tpxzcxqRle4B"
      },
      "source": [
        "#**Load and Explore the Dataset**"
      ]
    },
    {
      "cell_type": "code",
      "execution_count": 1,
      "metadata": {
        "colab": {
          "base_uri": "https://localhost:8080/"
        },
        "id": "5D1yDRrujICm",
        "outputId": "95feff2a-4cab-433a-a5ac-5a5e85c476ae"
      },
      "outputs": [
        {
          "output_type": "stream",
          "name": "stdout",
          "text": [
            "Mounted at /content/drive\n"
          ]
        }
      ],
      "source": [
        "from google.colab import drive\n",
        "drive.mount('/content/drive')"
      ]
    },
    {
      "cell_type": "code",
      "execution_count": 2,
      "metadata": {
        "id": "h1Hy_roijiF7"
      },
      "outputs": [],
      "source": [
        "import pandas as pd"
      ]
    },
    {
      "cell_type": "code",
      "execution_count": 3,
      "metadata": {
        "id": "nCcD6j47jmBF"
      },
      "outputs": [],
      "source": [
        "Path = '/content/drive/MyDrive/latihan/latihan/flight price prediction/Clean_Dataset.csv'\n",
        "dataset = pd.read_csv(Path)"
      ]
    },
    {
      "cell_type": "code",
      "execution_count": 4,
      "metadata": {
        "colab": {
          "base_uri": "https://localhost:8080/"
        },
        "id": "xwaGCBNYjpXk",
        "outputId": "40bc86af-526f-4e30-ba3a-41ceb7204bfe"
      },
      "outputs": [
        {
          "output_type": "stream",
          "name": "stdout",
          "text": [
            "First few rows of the dataset:\n",
            "     Unnamed: 0    airline   flight source_city departure_time stops  \\\n",
            "0             0   SpiceJet  SG-8709       Delhi        Evening  zero   \n",
            "1             1   SpiceJet  SG-8157       Delhi  Early_Morning  zero   \n",
            "2             2    AirAsia   I5-764       Delhi  Early_Morning  zero   \n",
            "3             3    Vistara   UK-995       Delhi        Morning  zero   \n",
            "4             4    Vistara   UK-963       Delhi        Morning  zero   \n",
            "..          ...        ...      ...         ...            ...   ...   \n",
            "195         195  Air_India   AI-540       Delhi          Night   one   \n",
            "196         196  Air_India   AI-885       Delhi        Morning   one   \n",
            "197         197  Air_India   AI-762       Delhi          Night   one   \n",
            "198         198  Air_India   AI-764       Delhi        Evening   one   \n",
            "199         199  Air_India   AI-885       Delhi        Morning   one   \n",
            "\n",
            "      arrival_time destination_city    class  duration  days_left    price  \n",
            "0            Night           Mumbai  Economy      2.17        1.0   5953.0  \n",
            "1          Morning           Mumbai  Economy      2.33        1.0   5953.0  \n",
            "2    Early_Morning           Mumbai  Economy      2.17        1.0   5956.0  \n",
            "3        Afternoon           Mumbai  Economy      2.25        1.0   5955.0  \n",
            "4          Morning           Mumbai  Economy      2.33        1.0   5955.0  \n",
            "..             ...              ...      ...       ...        ...      ...  \n",
            "195        Morning           Mumbai  Economy     11.42        2.0  12990.0  \n",
            "196          Night           Mumbai  Economy     11.50        2.0  12990.0  \n",
            "197      Afternoon           Mumbai  Economy     16.17        2.0  12990.0  \n",
            "198      Afternoon           Mumbai  Economy     19.50        2.0  12990.0  \n",
            "199        Morning           Mumbai  Economy     21.42        2.0  12990.0  \n",
            "\n",
            "[200 rows x 12 columns]\n"
          ]
        }
      ],
      "source": [
        "# Display the first few rows of the dataset\n",
        "print(\"First few rows of the dataset:\")\n",
        "print(dataset.head(200))"
      ]
    },
    {
      "cell_type": "code",
      "execution_count": 5,
      "metadata": {
        "colab": {
          "base_uri": "https://localhost:8080/"
        },
        "id": "kYL0v_tGjsTE",
        "outputId": "21bea3e0-fbaf-4756-ee27-60971f5573fe"
      },
      "outputs": [
        {
          "output_type": "stream",
          "name": "stdout",
          "text": [
            "\n",
            "Dataset information:\n",
            "<class 'pandas.core.frame.DataFrame'>\n",
            "RangeIndex: 129369 entries, 0 to 129368\n",
            "Data columns (total 12 columns):\n",
            " #   Column            Non-Null Count   Dtype  \n",
            "---  ------            --------------   -----  \n",
            " 0   Unnamed: 0        129369 non-null  int64  \n",
            " 1   airline           129369 non-null  object \n",
            " 2   flight            129369 non-null  object \n",
            " 3   source_city       129369 non-null  object \n",
            " 4   departure_time    129369 non-null  object \n",
            " 5   stops             129369 non-null  object \n",
            " 6   arrival_time      129369 non-null  object \n",
            " 7   destination_city  129369 non-null  object \n",
            " 8   class             129368 non-null  object \n",
            " 9   duration          129368 non-null  float64\n",
            " 10  days_left         129368 non-null  float64\n",
            " 11  price             129368 non-null  float64\n",
            "dtypes: float64(3), int64(1), object(8)\n",
            "memory usage: 11.8+ MB\n",
            "None\n"
          ]
        }
      ],
      "source": [
        "# Display information about the dataset\n",
        "print(\"\\nDataset information:\")\n",
        "print(dataset.info())"
      ]
    },
    {
      "cell_type": "code",
      "execution_count": 6,
      "metadata": {
        "colab": {
          "base_uri": "https://localhost:8080/"
        },
        "id": "5OEoUOcvjvcU",
        "outputId": "87d7ef8d-7ec3-4e09-da13-4ac0379fb0e6"
      },
      "outputs": [
        {
          "output_type": "stream",
          "name": "stdout",
          "text": [
            "\n",
            "Missing values in the dataset:\n",
            "Unnamed: 0          0\n",
            "airline             0\n",
            "flight              0\n",
            "source_city         0\n",
            "departure_time      0\n",
            "stops               0\n",
            "arrival_time        0\n",
            "destination_city    0\n",
            "class               1\n",
            "duration            1\n",
            "days_left           1\n",
            "price               1\n",
            "dtype: int64\n"
          ]
        }
      ],
      "source": [
        "# Check for missing values\n",
        "print(\"\\nMissing values in the dataset:\")\n",
        "print(dataset.isnull().sum())"
      ]
    },
    {
      "cell_type": "code",
      "execution_count": 7,
      "metadata": {
        "id": "81kO0TYkwAYm"
      },
      "outputs": [],
      "source": [
        "dataset = dataset.dropna()\n"
      ]
    },
    {
      "cell_type": "code",
      "execution_count": 8,
      "metadata": {
        "colab": {
          "base_uri": "https://localhost:8080/"
        },
        "id": "MEnt1fddwPIT",
        "outputId": "677bff45-ffc2-4e98-8e8d-2a1196f3c6b6"
      },
      "outputs": [
        {
          "output_type": "stream",
          "name": "stdout",
          "text": [
            "\n",
            "Missing values in the dataset:\n",
            "Unnamed: 0          0\n",
            "airline             0\n",
            "flight              0\n",
            "source_city         0\n",
            "departure_time      0\n",
            "stops               0\n",
            "arrival_time        0\n",
            "destination_city    0\n",
            "class               0\n",
            "duration            0\n",
            "days_left           0\n",
            "price               0\n",
            "dtype: int64\n"
          ]
        }
      ],
      "source": [
        "# Check for missing values\n",
        "print(\"\\nMissing values in the dataset:\")\n",
        "print(dataset.isnull().sum())"
      ]
    },
    {
      "cell_type": "markdown",
      "metadata": {
        "id": "qNIdqQuflsXE"
      },
      "source": [
        "#**Data Preprocessing**"
      ]
    },
    {
      "cell_type": "code",
      "execution_count": 9,
      "metadata": {
        "colab": {
          "base_uri": "https://localhost:8080/"
        },
        "id": "4OEbgWM1jy8i",
        "outputId": "82485afd-5d0a-4310-80e8-b7533e1ad95d"
      },
      "outputs": [
        {
          "output_type": "stream",
          "name": "stdout",
          "text": [
            "Columns in the dataset: Index(['Unnamed: 0', 'airline', 'flight', 'source_city', 'departure_time',\n",
            "       'stops', 'arrival_time', 'destination_city', 'class', 'duration',\n",
            "       'days_left', 'price'],\n",
            "      dtype='object')\n",
            "Transformation and scaling successful!\n"
          ]
        }
      ],
      "source": [
        "import pandas as pd\n",
        "from sklearn.preprocessing import OneHotEncoder, StandardScaler\n",
        "from sklearn.compose import ColumnTransformer\n",
        "\n",
        "# Verify the column names\n",
        "print(\"Columns in the dataset:\", dataset.columns)\n",
        "\n",
        "# Define the categorical features to be encoded with lowercase column names\n",
        "categorical_features = ['airline', 'flight', 'source_city', 'departure_time', 'stops', 'arrival_time', 'destination_city', 'class']\n",
        "\n",
        "# Ensure 'price' column exists in the dataset\n",
        "if 'price' in dataset.columns:\n",
        "    # Use ColumnTransformer to apply OneHotEncoder to the categorical features\n",
        "    column_transformer = ColumnTransformer(\n",
        "        transformers=[\n",
        "            ('cat', OneHotEncoder(), categorical_features)\n",
        "        ], remainder='passthrough'\n",
        "    )\n",
        "\n",
        "    # Apply the transformations to the dataset\n",
        "    X = dataset.drop('price', axis=1)\n",
        "    y = dataset['price']\n",
        "    X = column_transformer.fit_transform(X)\n",
        "\n",
        "    # Standardize the data\n",
        "    scaler = StandardScaler(with_mean=False)\n",
        "    X = scaler.fit_transform(X)\n",
        "\n",
        "    print(\"Transformation and scaling successful!\")\n",
        "else:\n",
        "    print(\"Error: 'price' column not found in the dataset.\")\n"
      ]
    },
    {
      "cell_type": "markdown",
      "metadata": {
        "id": "5BuE7PEHl2nJ"
      },
      "source": [
        "#**Exploratory Data Analysis (EDA)**"
      ]
    },
    {
      "cell_type": "code",
      "execution_count": 10,
      "metadata": {
        "colab": {
          "base_uri": "https://localhost:8080/",
          "height": 1000
        },
        "id": "Z5NjP8OAj39C",
        "outputId": "2a447912-8f87-4470-e924-7f73875b8524"
      },
      "outputs": [
        {
          "output_type": "display_data",
          "data": {
            "text/plain": [
              "<Figure size 1000x600 with 1 Axes>"
            ],
            "image/png": "[encoded data removed]"
          },
          "metadata": {}
        },
        {
          "output_type": "display_data",
          "data": {
            "text/plain": [
              "<Figure size 1200x800 with 2 Axes>"
            ],
            "image/png": "[encoded data removed]"
          },
          "metadata": {}
        }
      ],
      "source": [
        "import matplotlib.pyplot as plt\n",
        "import seaborn as sns\n",
        "\n",
        "# Visualize the distribution of the target variable (price)\n",
        "plt.figure(figsize=(10, 6))\n",
        "sns.histplot(dataset['price'], bins=50, kde=True)\n",
        "plt.title('Distribution of Flight Prices')\n",
        "plt.xlabel('Price')\n",
        "plt.ylabel('Frequency')\n",
        "plt.show()\n",
        "\n",
        "# Select only numerical columns for correlation matrix\n",
        "numerical_features = ['duration', 'days_left', 'price']\n",
        "\n",
        "# Create a subset of the dataset with only numerical columns\n",
        "numerical_data = dataset[numerical_features]\n",
        "\n",
        "# Visualize correlations between numerical features and price\n",
        "plt.figure(figsize=(12, 8))\n",
        "correlation_matrix = numerical_data.corr()\n",
        "sns.heatmap(correlation_matrix, annot=True, cmap='coolwarm')\n",
        "plt.title('Correlation Matrix')\n",
        "plt.show()"
      ]
    },
    {
      "cell_type": "markdown",
      "metadata": {
        "id": "K5OReZ7XpKbk"
      },
      "source": [
        "#**Model Building, Insights and Interpretation**"
      ]
    },
    {
      "cell_type": "code",
      "execution_count": null,
      "metadata": {
        "colab": {
          "background_save": true
        },
        "id": "NjMWPU1SpOfF"
      },
      "outputs": [],
      "source": [
        "import matplotlib.pyplot as plt\n",
        "import seaborn as sns\n",
        "import numpy as np\n",
        "import pandas as pd\n",
        "from sklearn.model_selection import train_test_split\n",
        "from sklearn.preprocessing import OneHotEncoder, StandardScaler, PolynomialFeatures\n",
        "from sklearn.compose import ColumnTransformer\n",
        "from sklearn.linear_model import LinearRegression\n",
        "from sklearn.metrics import mean_absolute_error, mean_squared_error, r2_score\n",
        "from sklearn.ensemble import RandomForestRegressor\n",
        "from sklearn.neural_network import MLPRegressor\n",
        "from sklearn.neighbors import KNeighborsRegressor\n",
        "\n",
        "# Define categorical features\n",
        "categorical_features = ['airline', 'flight', 'source_city', 'departure_time', 'stops', 'arrival_time', 'destination_city', 'class']\n",
        "\n",
        "# Use ColumnTransformer to apply OneHotEncoder to the categorical features\n",
        "column_transformer = ColumnTransformer(\n",
        "    transformers=[\n",
        "        ('cat', OneHotEncoder(), categorical_features)\n",
        "    ], remainder='passthrough'\n",
        ")\n",
        "\n",
        "# Apply the transformations to the dataset\n",
        "X = dataset.drop('price', axis=1)\n",
        "y = dataset['price']\n",
        "X = column_transformer.fit_transform(X)\n",
        "\n",
        "# Standardize the data\n",
        "scaler = StandardScaler(with_mean=False)\n",
        "X = scaler.fit_transform(X)\n",
        "\n",
        "# Split the dataset into training and testing sets\n",
        "X_train, X_test, y_train, y_test = train_test_split(X, y, test_size=0.2, random_state=42)\n",
        "\n",
        "# Polynomial Regression\n",
        "poly_features = PolynomialFeatures(degree=2)\n",
        "X_poly_train = poly_features.fit_transform(X_train)\n",
        "X_poly_test = poly_features.transform(X_test)\n",
        "poly_model = LinearRegression()\n",
        "poly_model.fit(X_poly_train, y_train)\n",
        "y_poly_pred = poly_model.predict(X_poly_test)\n",
        "poly_mae = mean_absolute_error(y_test, y_poly_pred)\n",
        "poly_mse = mean_squared_error(y_test, y_poly_pred)\n",
        "poly_r2 = r2_score(y_test, y_poly_pred)\n",
        "\n",
        "# Linear Regression\n",
        "linear_model = LinearRegression()\n",
        "linear_model.fit(X_train, y_train)\n",
        "y_linear_pred = linear_model.predict(X_test)\n",
        "mae = mean_absolute_error(y_test, y_linear_pred)\n",
        "mse = mean_squared_error(y_test, y_linear_pred)\n",
        "r2 = r2_score(y_test, y_linear_pred)\n",
        "\n",
        "# ANN Regression\n",
        "ann_model = MLPRegressor(random_state=42, max_iter=100)\n",
        "ann_model.fit(X_train, y_train)\n",
        "y_ann_pred = ann_model.predict(X_test)\n",
        "ann_mae = mean_absolute_error(y_test, y_ann_pred)\n",
        "ann_mse = mean_squared_error(y_test, y_ann_pred)\n",
        "ann_r2 = r2_score(y_test, y_ann_pred)\n",
        "\n",
        "# Random Forest Regression\n",
        "rf_model = RandomForestRegressor(n_estimators=100, random_state=42, n_jobs=-1)\n",
        "rf_model.fit(X_train, y_train)\n",
        "y_rf_pred = rf_model.predict(X_test)\n",
        "rf_mae = mean_absolute_error(y_test, y_rf_pred)\n",
        "rf_mse = mean_squared_error(y_test, y_rf_pred)\n",
        "rf_r2 = r2_score(y_test, y_rf_pred)\n",
        "\n",
        "# K-Nearest Neighbors Regression\n",
        "knn_model = KNeighborsRegressor()\n",
        "knn_model.fit(X_train, y_train)\n",
        "y_knn_pred = knn_model.predict(X_test)\n",
        "knn_mae = mean_absolute_error(y_test, y_knn_pred)\n",
        "knn_mse = mean_squared_error(y_test, y_knn_pred)\n",
        "knn_r2 = r2_score(y_test, y_knn_pred)\n",
        "\n",
        "\n",
        "# Visualisasi residuals (selisih antara nilai aktual dan prediksi) untuk model Polynomial Regression\n",
        "residuals = y_test - y_poly_pred\n",
        "plt.figure(figsize=(10, 6))\n",
        "sns.histplot(residuals, bins=50, kde=True)\n",
        "plt.title('Distribution of Residuals (Polynomial Regression)')\n",
        "plt.xlabel('Residuals')\n",
        "plt.ylabel('Frequency')\n",
        "plt.show()\n",
        "\n",
        "# Feature Importance untuk model Random Forest\n",
        "importances = rf_model.feature_importances_\n",
        "feature_names = column_transformer.get_feature_names_out()\n",
        "feature_importances = pd.Series(importances, index=feature_names).sort_values(ascending=False)\n",
        "\n",
        "\n",
        "# Visualisasi perbandingan antara nilai prediksi dan nilai aktual untuk model terbaik (random forest)\n",
        "plt.figure(figsize=(10, 6))\n",
        "plt.scatter(y_test, y_rf_pred, alpha=0.3)\n",
        "plt.plot([min(y_test), max(y_test)], [min(y_test), max(y_test)], '--', color='red')\n",
        "plt.title('Actual vs Predicted Prices (Random Forest)')\n",
        "plt.xlabel('Actual Prices')\n",
        "plt.ylabel('Predicted Prices')\n",
        "plt.show()\n",
        "\n",
        "# Menampilkan metrik performa model\n",
        "print(\"\\nModel Performance Metrics:\")\n",
        "\n",
        "# Linear Regression Metrics\n",
        "print(\"\\nLinear Regression Metrics:\")\n",
        "print(f\"Mean Absolute Error: {mae}\")\n",
        "print(f\"Mean Squared Error: {mse}\")\n",
        "print(f\"R-squared: {r2}\")\n",
        "\n",
        "# Artificial Neural Network Metrics\n",
        "print(\"\\nArtificial Neural Network Metrics:\")\n",
        "print(f\"Mean Absolute Error: {ann_mae}\")\n",
        "print(f\"Mean Squared Error: {ann_mse}\")\n",
        "print(f\"R-squared: {ann_r2}\")\n",
        "\n",
        "# Polynomial Regression Metrics\n",
        "print(\"\\nPolynomial Regression Metrics:\")\n",
        "print(f\"Mean Absolute Error: {poly_mae}\")\n",
        "print(f\"Mean Squared Error: {poly_mse}\")\n",
        "print(f\"R-squared: {poly_r2}\")\n",
        "\n",
        "# Random Forest Metrics\n",
        "print(\"\\nRandom Forest Regression Metrics:\")\n",
        "print(f\"Mean Absolute Error: {rf_mae}\")\n",
        "print(f\"Mean Squared Error: {rf_mse}\")\n",
        "print(f\"R-squared: {rf_r2}\")\n",
        "\n",
        "# K-Nearest Neighbors Metrics\n",
        "print(\"\\nK-Nearest Neighbors Regression Metrics:\")\n",
        "print(f\"Mean Absolute Error: {knn_mae}\")\n",
        "print(f\"Mean Squared Error: {knn_mse}\")\n",
        "print(f\"R-squared: {knn_r2}\")\n"
      ]
    },
    {
      "cell_type": "markdown",
      "metadata": {
        "id": "hofTwmnppPIJ"
      },
      "source": [
        "#**Final Prediction**"
      ]
    },
    {
      "cell_type": "code",
      "execution_count": null,
      "metadata": {
        "id": "D2nTed2JpXG4"
      },
      "outputs": [],
      "source": [
        "import matplotlib.pyplot as plt\n",
        "import seaborn as sns\n",
        "import numpy as np\n",
        "import pandas as pd\n",
        "from sklearn.model_selection import train_test_split\n",
        "from sklearn.preprocessing import OneHotEncoder, StandardScaler, PolynomialFeatures\n",
        "from sklearn.compose import ColumnTransformer\n",
        "from sklearn.linear_model import LinearRegression\n",
        "from sklearn.metrics import mean_absolute_error, mean_squared_error, r2_score\n",
        "from sklearn.ensemble import RandomForestRegressor\n",
        "\n",
        "# Define categorical features\n",
        "categorical_features = ['airline', 'flight', 'source_city', 'departure_time', 'stops', 'arrival_time', 'destination_city', 'class']\n",
        "\n",
        "# Use ColumnTransformer to apply OneHotEncoder to the categorical features\n",
        "column_transformer = ColumnTransformer(\n",
        "    transformers=[\n",
        "        ('cat', OneHotEncoder(), categorical_features)\n",
        "    ], remainder='passthrough'\n",
        ")\n",
        "\n",
        "# Apply the transformations to the dataset\n",
        "X = dataset.drop('price', axis=1)\n",
        "y = dataset['price']\n",
        "X = column_transformer.fit_transform(X)\n",
        "\n",
        "# Standardize the data\n",
        "scaler = StandardScaler(with_mean=False)\n",
        "X = scaler.fit_transform(X)\n",
        "\n",
        "# Split the dataset into training and testing sets\n",
        "X_train, X_test, y_train, y_test = train_test_split(X, y, test_size=0.2, random_state=42)\n",
        "\n",
        "# Random Forest Regression\n",
        "rf_model = RandomForestRegressor(n_estimators=100, random_state=42, n_jobs=-1)\n",
        "rf_model.fit(X_train, y_train)\n",
        "y_rf_pred = rf_model.predict(X_test)\n",
        "rf_mae = mean_absolute_error(y_test, y_rf_pred)\n",
        "rf_mse = mean_squared_error(y_test, y_rf_pred)\n",
        "rf_r2 = r2_score(y_test, y_rf_pred)\n",
        "\n",
        "# Visualisasi perbandingan antara nilai prediksi dan nilai aktual untuk model terbaik (Random Forest)\n",
        "plt.figure(figsize=(10, 6))\n",
        "plt.scatter(y_test, y_rf_pred, alpha=0.3)\n",
        "plt.plot([min(y_test), max(y_test)], [min(y_test), max(y_test)], '--', color='red')\n",
        "plt.title('Actual vs Predicted Prices (Random Forest)')\n",
        "plt.xlabel('Actual Prices')\n",
        "plt.ylabel('Predicted Prices')\n",
        "plt.show()"
      ]
    }
  ],
  "metadata": {
    "colab": {
      "provenance": []
    },
    "kernelspec": {
      "display_name": "Python 3",
      "name": "python3"
    },
    "language_info": {
      "name": "python"
    }
  },
  "nbformat": 4,
  "nbformat_minor": 0
}